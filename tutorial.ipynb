{
 "cells": [
  {
   "cell_type": "markdown",
   "metadata": {},
   "source": [
    "**安装服务器需要用到的包**"
   ]
  },
  {
   "cell_type": "code",
   "execution_count": null,
   "metadata": {},
   "outputs": [],
   "source": [
    "!apt update && apt install -y libsm6 libxext6\n",
    "!apt-get install -y libxrender-dev\n",
    "!apt-get install git --yes\n",
    "!apt-get install curl --yes\n",
    "!apt-get install unzip --yes\n",
    "!apt-get install zip --yes"
   ]
  },
  {
   "cell_type": "markdown",
   "metadata": {},
   "source": [
    "**安装需要用到的python库**"
   ]
  },
  {
   "cell_type": "code",
   "execution_count": null,
   "metadata": {},
   "outputs": [],
   "source": [
    "!pip install cython\n",
    "!pip install numpy\n",
    "!pip install opencv-python\n",
    "!pip install torch==1.5.0+cu101 torchvision==0.6.0+cu101 -f https://download.pytorch.org/whl/torch_stable.html\n",
    "!pip install matplotlib\n",
    "!pip install tqdm\n",
    "!pip install pillow\n",
    "!pip install tensorboard\n",
    "!pip install gdown"
   ]
  },
  {
   "cell_type": "markdown",
   "metadata": {},
   "source": [
    "**从github仓库获取yolov3代码，并从Google Drive获取要用到的小麦数据集**"
   ]
  },
  {
   "cell_type": "code",
   "execution_count": null,
   "metadata": {},
   "outputs": [],
   "source": [
    "!mkdir wheat_detection\n",
    "%cd wheat_detection\n",
    "!gdown https://drive.google.com/uc?id=1LK42b3YjQiiyQFBFmfHJQozryfQ6cJ1R\n",
    "!unzip -q wheat.zip\n",
    "!rm -f wheat.zip\n",
    "!git clone https://github.com/hit-lance/yolov3.git\n",
    "%cd yolov3"
   ]
  },
  {
   "cell_type": "markdown",
   "metadata": {},
   "source": [
    "**训练yolov3**"
   ]
  },
  {
   "cell_type": "code",
   "execution_count": null,
   "metadata": {},
   "outputs": [],
   "source": [
    "!python train.py --cfg yolov3.cfg --weights 'yolov3.pt' --data data/wheat.data --epochs 10 --batch-size 8"
   ]
  },
  {
   "cell_type": "markdown",
   "metadata": {},
   "source": [
    "训练yolov3-spp"
   ]
  },
  {
   "cell_type": "code",
   "execution_count": null,
   "metadata": {},
   "outputs": [],
   "source": [
    "!python train.py --cfg yolov3-spp.cfg --weights 'yolov3-spp.pt' --data data/wheat.data --epochs 10 --batch-size 8"
   ]
  },
  {
   "cell_type": "markdown",
   "metadata": {},
   "source": [
    "**测试**"
   ]
  },
  {
   "cell_type": "code",
   "execution_count": null,
   "metadata": {},
   "outputs": [],
   "source": [
    "!python3 detect.py --weights weights/last.pt --names data/wheat.names"
   ]
  },
  {
   "cell_type": "markdown",
   "metadata": {},
   "source": [
    "**将结果压缩**"
   ]
  },
  {
   "cell_type": "code",
   "execution_count": null,
   "metadata": {},
   "outputs": [],
   "source": [
    "!zip -q -r runs.zip runs"
   ]
  }
 ],
 "metadata": {
  "kernelspec": {
   "display_name": "Python 3",
   "language": "python",
   "name": "python3"
  },
  "language_info": {
   "codemirror_mode": {
    "name": "ipython",
    "version": 3
   },
   "file_extension": ".py",
   "mimetype": "text/x-python",
   "name": "python",
   "nbconvert_exporter": "python",
   "pygments_lexer": "ipython3",
   "version": "3.8.3-final"
  }
 },
 "nbformat": 4,
 "nbformat_minor": 4
}